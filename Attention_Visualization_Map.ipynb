{
  "nbformat": 4,
  "nbformat_minor": 0,
  "metadata": {
    "colab": {
      "name": "Visualize Attention.ipynb",
      "provenance": [],
      "collapsed_sections": [],
      "machine_shape": "hm"
    },
    "kernelspec": {
      "name": "python3",
      "display_name": "Python 3"
    }
  },
  "cells": [
    {
      "cell_type": "code",
      "metadata": {
        "id": "ksREYeYLLGiq",
        "colab_type": "code",
        "outputId": "23d48139-0b5a-46d4-8e8a-a2559e19c430",
        "colab": {
          "base_uri": "https://localhost:8080/",
          "height": 125
        }
      },
      "source": [
        "from google.colab import drive\n",
        "drive.mount('/content/drive')"
      ],
      "execution_count": 2,
      "outputs": [
        {
          "output_type": "stream",
          "text": [
            "Go to this URL in a browser: https://accounts.google.com/o/oauth2/auth?client_id=947318989803-6bn6qk8qdgf4n4g3pfee6491hc0brc4i.apps.googleusercontent.com&redirect_uri=urn%3aietf%3awg%3aoauth%3a2.0%3aoob&response_type=code&scope=email%20https%3a%2f%2fwww.googleapis.com%2fauth%2fdocs.test%20https%3a%2f%2fwww.googleapis.com%2fauth%2fdrive%20https%3a%2f%2fwww.googleapis.com%2fauth%2fdrive.photos.readonly%20https%3a%2f%2fwww.googleapis.com%2fauth%2fpeopleapi.readonly\n",
            "\n",
            "Enter your authorization code:\n",
            "··········\n",
            "Mounted at /content/drive\n"
          ],
          "name": "stdout"
        }
      ]
    },
    {
      "cell_type": "code",
      "metadata": {
        "id": "6nzObUhpFZDZ",
        "colab_type": "code",
        "colab": {}
      },
      "source": [
        "import torch\n",
        "\n",
        "from bertviz import head_view, model_view\n",
        "from transformers import BertTokenizer, BertModel, BertConfig, BertForTokenClassification\n",
        "\n",
        "from keras.preprocessing.sequence import pad_sequences\n",
        "import pandas as pd\n",
        "import numpy as np\n",
        "import matplotlib.pyplot as plt\n",
        "import matplotlib"
      ],
      "execution_count": 0,
      "outputs": []
    },
    {
      "cell_type": "code",
      "metadata": {
        "id": "JQPbN5C6GhSq",
        "colab_type": "code",
        "colab": {}
      },
      "source": [
        "from keras.preprocessing.sequence import pad_sequences\n",
        "\n",
        "def read_in_val_data(filepath):\n",
        "  print(\"reading \",filepath)\n",
        "  genes = []\n",
        "  labels = []\n",
        "  df = pd.read_csv(filepath,usecols=[2,3],sep=\"\\t\",skiprows=1,header=None,nrows=10)\n",
        "  print(df.head())\n",
        "  for entry in df.itertuples():\n",
        "    kmer_list = [kmer.strip(\"\\'\") for kmer in entry[1][1:-1].split(\", \")]\n",
        "    #for some reason there are empty examples in here\n",
        "    if(len(kmer_list)>1):\n",
        "      label_list = list(map(float, entry[2][1:-1].split(\", \")))\n",
        "      genes.append(kmer_list)\n",
        "      labels.append(label_list)\n",
        "  return genes, labels\n",
        "\n",
        "def tokenize_and_pad_single_sample(sample,label):\n",
        "  k= len(genes[0][0])\n",
        "  if k==4:\n",
        "    kmer_filepath = '/content/drive/My Drive/k_mers/fourmers.txt'\n",
        "  elif k==6:\n",
        "    kmer_filepath = '/content/drive/My Drive/k_mers/hexamers.txt'\n",
        "  elif k==8:\n",
        "    kmer_filepath = '/content/drive/My Drive/k_mers/octamers.txt'\n",
        "\n",
        "  formatted_sample = ['[CLS]']  + sample + ['[SEP]']\n",
        "  formatted_label = [0] + label + [0]\n",
        "  tokenizer = BertTokenizer(kmer_filepath, max_len=MAX_LEN)\n",
        "  attention_mask = np.concatenate([np.ones(len(label)), np.zeros(MAX_LEN - len(label))])\n",
        "  seq_ids =[tokenizer.convert_tokens_to_ids(formatted_sample)]\n",
        "  sample_ids = pad_sequences(seq_ids, maxlen=MAX_LEN, truncating='post', padding='post')[0]\n",
        "  \n",
        "  return sample_ids, attention_mask, formatted_label"
      ],
      "execution_count": 0,
      "outputs": []
    },
    {
      "cell_type": "code",
      "metadata": {
        "id": "Pga5qsz8GE3i",
        "colab_type": "code",
        "colab": {}
      },
      "source": [
        "#FOR MSE\n",
        "class BertForTokenRegression(torch.nn.Module):\n",
        "  def __init__(self):\n",
        "    super(BertForTokenRegression, self).__init__()\n",
        "    self.config = BertConfig(vocab_size_or_config_json_file='/content/drive/My Drive/regression_bert_configuration.json')\n",
        "    self.bert = BertForTokenClassification(self.config)\n",
        "    self.linear = torch.nn.Linear(self.config.hidden_size, 1)\n",
        "  def forward(self, input_ids, attention_mask=None):\n",
        "    scores, hidden_states, att_weights = self.bert(input_ids,attention_mask=attention_mask)\n",
        "    preds = self.linear(hidden_states[8]).squeeze(0).squeeze(1)\n",
        "    return preds, att_weights"
      ],
      "execution_count": 0,
      "outputs": []
    },
    {
      "cell_type": "code",
      "metadata": {
        "id": "BiWA36CHFZUL",
        "colab_type": "code",
        "outputId": "b85a7e34-06f8-483f-d8a7-a66935434870",
        "colab": {
          "base_uri": "https://localhost:8080/",
          "height": 140
        }
      },
      "source": [
        "kmer_filepath='/content/drive/My Drive/kmers/hexamers.txt'\n",
        "MAX_LEN=1002\n",
        "model = BertForTokenRegression()\n",
        "model.load_state_dict(torch.load(\"/content/drive/My Drive/brain_bert_weights.pt\",map_location=torch.device('cpu')))\n",
        "\n",
        "genes, labels = read_in_val_data('/content/drive/My Drive/tissue-specific/Brain_train.txt')"
      ],
      "execution_count": 35,
      "outputs": [
        {
          "output_type": "stream",
          "text": [
            "reading  /content/drive/My Drive/tissue-specific/Brain_train.txt\n",
            "                                                   2                                                  3\n",
            "0  ['CACCTG', 'TGGTCC', 'CAGCTA', 'TTCAGG', 'AAGC...  [0.0, 0.0, 0.0, 0.0, 0.0, 0.0, 0.0, 0.0, 0.0, ...\n",
            "1  ['GAATAA', 'TATTTT', 'TCTTTT', 'CTTTTT', 'TCCT...  [0.0, 0.0, 0.0, 0.0, 0.0, 0.0, 0.0, 0.0, 0.0, ...\n",
            "2  ['CAAGTA', 'TGAGAC', 'TGTGGA', 'CCATGC', 'TGAT...  [0.0, 0.0, 0.0, 0.0, 0.0, 0.0, 0.0, 0.0, 0.0, ...\n",
            "3  ['CGCCAT', 'GTTGGT', 'CAGGCT', 'TGTCTT', 'GACC...  [0.0, 0.0, 0.0, 0.0, 0.0, 0.0, 0.0, 0.0, 0.0, ...\n",
            "4  ['ATCCGG', 'CCCGTG', 'GCGACA', 'CAGAGC', 'AGGC...  [0.0, 0.0, 0.0, 0.0, 0.0, 0.0, 0.0, 0.0, 0.0, ...\n"
          ],
          "name": "stdout"
        }
      ]
    },
    {
      "cell_type": "code",
      "metadata": {
        "id": "fvEXzTQAML8K",
        "colab_type": "code",
        "outputId": "83c1718a-8887-4d9e-e895-3796546a8bee",
        "colab": {
          "base_uri": "https://localhost:8080/",
          "height": 302
        }
      },
      "source": [
        "input_ids, mask, label = tokenize_and_pad_single_sample(genes[0],labels[0])\n",
        "max_kmer = 100\n",
        "\n",
        "input_tensor = torch.tensor(input_ids).unsqueeze(0).long()\n",
        "mask_tensor = torch.tensor(mask).unsqueeze(0).long()\n",
        "preds, attention = model(input_tensor, attention_mask=mask_tensor)\n",
        "\n",
        "att_path = \"/content/drive/My Drive/attention_weights.txt\"\n",
        "attention_weights = attention[0].squeeze(0).detach().numpy()[0][:max_kmer, :max_kmer]\n",
        "print(attention_weights.shape)\n",
        "\n",
        "sequence_values_x = genes[0][:max_kmer]\n",
        "sequence_values_y = genes[0][:max_kmer]\n",
        "\n",
        "fig, ax = plt.subplots()\n",
        "im = ax.imshow(attention_weights)\n",
        "im, cbar = heatmap(attention_weights, sequence_values_x, sequence_values_y, ax=ax,\n",
        "                   cmap=\"GnBu\", cbarlabel=\"attention\")\n",
        "#annotate_heatmap(im, valfmt=\"{x:.1f} t\")\n",
        "\n",
        "plt.figure(figsize=(3,4))\n",
        "#fig.tight_layout()\n",
        "plt.savefig('correlation_plot.png', format=\"png\")\n",
        "#plt.show()\n",
        "\n",
        "\n",
        "\n",
        "\n"
      ],
      "execution_count": 36,
      "outputs": [
        {
          "output_type": "stream",
          "text": [
            "(100, 100)\n"
          ],
          "name": "stdout"
        },
        {
          "output_type": "display_data",
          "data": {
            "image/png": "[encoded data removed]",
            "text/plain": [
              "<Figure size 432x288 with 2 Axes>"
            ]
          },
          "metadata": {
            "tags": []
          }
        },
        {
          "output_type": "display_data",
          "data": {
            "text/plain": [
              "<Figure size 216x288 with 0 Axes>"
            ]
          },
          "metadata": {
            "tags": []
          }
        }
      ]
    },
    {
      "cell_type": "code",
      "metadata": {
        "id": "GvdDqJ6FFZbj",
        "colab_type": "code",
        "colab": {}
      },
      "source": [
        "def heatmap(data, row_labels, col_labels, ax=None,\n",
        "            cbar_kw={}, cbarlabel=\"\", **kwargs):\n",
        "    \"\"\"\n",
        "    Create a heatmap from a numpy array and two lists of labels.\n",
        "\n",
        "    Parameters\n",
        "    ----------\n",
        "    data\n",
        "        A 2D numpy array of shape (N, M).\n",
        "    row_labels\n",
        "        A list or array of length N with the labels for the rows.\n",
        "    col_labels\n",
        "        A list or array of length M with the labels for the columns.\n",
        "    ax\n",
        "        A `matplotlib.axes.Axes` instance to which the heatmap is plotted.  If\n",
        "        not provided, use current axes or create a new one.  Optional.\n",
        "    cbar_kw\n",
        "        A dictionary with arguments to `matplotlib.Figure.colorbar`.  Optional.\n",
        "    cbarlabel\n",
        "        The label for the colorbar.  Optional.\n",
        "    **kwargs\n",
        "        All other arguments are forwarded to `imshow`.\n",
        "    \"\"\"\n",
        "\n",
        "    if not ax:\n",
        "        ax = plt.gca()\n",
        "\n",
        "    # Plot the heatmap\n",
        "    im = ax.imshow(data, **kwargs)\n",
        "\n",
        "    # Create colorbar\n",
        "    cbar = ax.figure.colorbar(im, ax=ax, **cbar_kw)\n",
        "    cbar.ax.set_ylabel(cbarlabel, rotation=-90, va=\"bottom\")\n",
        "\n",
        "    # We want to show all ticks...\n",
        "    #ax.set_xticks(np.arange(data.shape[1]))\n",
        "    #ax.set_yticks(np.arange(data.shape[0]))\n",
        "    # ... and label them with the respective list entries.\n",
        "    #ax.set_xticklabels(col_labels)\n",
        "    #ax.set_yticklabels(row_labels)\n",
        "\n",
        "    # Let the horizontal axes labeling appear on top.\n",
        "    #ax.tick_params(top=True, bottom=False,\n",
        "    #               labeltop=True, labelbottom=False)\n",
        "\n",
        "    # Rotate the tick labels and set their alignment.\n",
        "    plt.setp(ax.get_xticklabels(), rotation=-30, ha=\"right\",\n",
        "             rotation_mode=\"anchor\")\n",
        "\n",
        "    # Turn spines off and create white grid.\n",
        "    for edge, spine in ax.spines.items():\n",
        "        spine.set_visible(False)\n",
        "\n",
        "    #ax.set_xticks(np.arange(data.shape[1]+1)-.5, minor=True)\n",
        "    #ax.set_yticks(np.arange(data.shape[0]+1)-.5, minor=True)\n",
        "    ax.grid(which=\"minor\", color=\"w\", linestyle='-', linewidth=3)\n",
        "    #ax.tick_params(which=\"minor\", bottom=False, left=False)\n",
        "\n",
        "    return im, cbar\n",
        "\n",
        "\n",
        "def annotate_heatmap(im, data=None, valfmt=\"{x:.2f}\",\n",
        "                     textcolors=[\"black\", \"white\"],\n",
        "                     threshold=None, **textkw):\n",
        "    \"\"\"\n",
        "    A function to annotate a heatmap.\n",
        "\n",
        "    Parameters\n",
        "    ----------\n",
        "    im\n",
        "        The AxesImage to be labeled.\n",
        "    data\n",
        "        Data used to annotate.  If None, the image's data is used.  Optional.\n",
        "    valfmt\n",
        "        The format of the annotations inside the heatmap.  This should either\n",
        "        use the string format method, e.g. \"$ {x:.2f}\", or be a\n",
        "        `matplotlib.ticker.Formatter`.  Optional.\n",
        "    textcolors\n",
        "        A list or array of two color specifications.  The first is used for\n",
        "        values below a threshold, the second for those above.  Optional.\n",
        "    threshold\n",
        "        Value in data units according to which the colors from textcolors are\n",
        "        applied.  If None (the default) uses the middle of the colormap as\n",
        "        separation.  Optional.\n",
        "    **kwargs\n",
        "        All other arguments are forwarded to each call to `text` used to create\n",
        "        the text labels.\n",
        "    \"\"\"\n",
        "\n",
        "    if not isinstance(data, (list, np.ndarray)):\n",
        "        data = im.get_array()\n",
        "\n",
        "    # Normalize the threshold to the images color range.\n",
        "    if threshold is not None:\n",
        "        threshold = im.norm(threshold)\n",
        "    else:\n",
        "        threshold = im.norm(data.max())/2.\n",
        "\n",
        "    # Set default alignment to center, but allow it to be\n",
        "    # overwritten by textkw.\n",
        "    kw = dict(horizontalalignment=\"center\",\n",
        "              verticalalignment=\"center\")\n",
        "    kw.update(textkw)\n",
        "\n",
        "    # Get the formatter in case a string is supplied\n",
        "    if isinstance(valfmt, str):\n",
        "        valfmt = matplotlib.ticker.StrMethodFormatter(valfmt)\n",
        "\n",
        "    "
      ],
      "execution_count": 0,
      "outputs": []
    }
  ]
}