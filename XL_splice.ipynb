{
  "nbformat": 4,
  "nbformat_minor": 0,
  "metadata": {
    "colab": {
      "name": "XL_splice.ipynb",
      "provenance": [],
      "collapsed_sections": [],
      "machine_shape": "hm"
    },
    "kernelspec": {
      "name": "python3",
      "display_name": "Python 3"
    },
    "accelerator": "TPU"
  },
  "cells": [
    {
      "cell_type": "code",
      "metadata": {
        "id": "Pyiw7HykT7Ey",
        "colab_type": "code",
        "outputId": "db0fd64f-b6be-452a-e734-39702efbc4bb",
        "colab": {
          "base_uri": "https://localhost:8080/",
          "height": 377
        }
      },
      "source": [
        "!pip3 install transformers"
      ],
      "execution_count": 4,
      "outputs": [
        {
          "output_type": "stream",
          "text": [
            "Requirement already satisfied: transformers in /usr/local/lib/python3.6/dist-packages (2.1.1)\n",
            "Requirement already satisfied: sacremoses in /usr/local/lib/python3.6/dist-packages (from transformers) (0.0.35)\n",
            "Requirement already satisfied: numpy in /usr/local/lib/python3.6/dist-packages (from transformers) (1.17.4)\n",
            "Requirement already satisfied: sentencepiece in /usr/local/lib/python3.6/dist-packages (from transformers) (0.1.83)\n",
            "Requirement already satisfied: tqdm in /usr/local/lib/python3.6/dist-packages (from transformers) (4.28.1)\n",
            "Requirement already satisfied: regex in /usr/local/lib/python3.6/dist-packages (from transformers) (2019.11.1)\n",
            "Requirement already satisfied: requests in /usr/local/lib/python3.6/dist-packages (from transformers) (2.21.0)\n",
            "Requirement already satisfied: boto3 in /usr/local/lib/python3.6/dist-packages (from transformers) (1.10.17)\n",
            "Requirement already satisfied: joblib in /usr/local/lib/python3.6/dist-packages (from sacremoses->transformers) (0.14.0)\n",
            "Requirement already satisfied: click in /usr/local/lib/python3.6/dist-packages (from sacremoses->transformers) (7.0)\n",
            "Requirement already satisfied: six in /usr/local/lib/python3.6/dist-packages (from sacremoses->transformers) (1.12.0)\n",
            "Requirement already satisfied: certifi>=2017.4.17 in /usr/local/lib/python3.6/dist-packages (from requests->transformers) (2019.9.11)\n",
            "Requirement already satisfied: urllib3<1.25,>=1.21.1 in /usr/local/lib/python3.6/dist-packages (from requests->transformers) (1.24.3)\n",
            "Requirement already satisfied: chardet<3.1.0,>=3.0.2 in /usr/local/lib/python3.6/dist-packages (from requests->transformers) (3.0.4)\n",
            "Requirement already satisfied: idna<2.9,>=2.5 in /usr/local/lib/python3.6/dist-packages (from requests->transformers) (2.8)\n",
            "Requirement already satisfied: s3transfer<0.3.0,>=0.2.0 in /usr/local/lib/python3.6/dist-packages (from boto3->transformers) (0.2.1)\n",
            "Requirement already satisfied: botocore<1.14.0,>=1.13.17 in /usr/local/lib/python3.6/dist-packages (from boto3->transformers) (1.13.17)\n",
            "Requirement already satisfied: jmespath<1.0.0,>=0.7.1 in /usr/local/lib/python3.6/dist-packages (from boto3->transformers) (0.9.4)\n",
            "Requirement already satisfied: docutils<0.16,>=0.10 in /usr/local/lib/python3.6/dist-packages (from botocore<1.14.0,>=1.13.17->boto3->transformers) (0.15.2)\n",
            "Requirement already satisfied: python-dateutil<2.8.1,>=2.1; python_version >= \"2.7\" in /usr/local/lib/python3.6/dist-packages (from botocore<1.14.0,>=1.13.17->boto3->transformers) (2.6.1)\n"
          ],
          "name": "stdout"
        }
      ]
    },
    {
      "cell_type": "code",
      "metadata": {
        "id": "F0HfppoIUVGP",
        "colab_type": "code",
        "outputId": "7a8a08b6-31cd-4cea-acd4-3dfd55f993ba",
        "colab": {
          "base_uri": "https://localhost:8080/",
          "height": 34
        }
      },
      "source": [
        "from google.colab import drive\n",
        "drive.mount('/content/drive')"
      ],
      "execution_count": 5,
      "outputs": [
        {
          "output_type": "stream",
          "text": [
            "Drive already mounted at /content/drive; to attempt to forcibly remount, call drive.mount(\"/content/drive\", force_remount=True).\n"
          ],
          "name": "stdout"
        }
      ]
    },
    {
      "cell_type": "code",
      "metadata": {
        "id": "M28FDg5jTEwR",
        "colab_type": "code",
        "colab": {}
      },
      "source": [
        "import re\n",
        "def get_data(filepath):\n",
        "\tvocab = set()\n",
        "\tgenes = []\n",
        "\tlabels = []\n",
        "\tmax_len = 0\n",
        "\tcount = 0\n",
        "\twith open(filepath, 'r') as f:\n",
        "\t\tl = f.readline()\n",
        "\t\tl = f.readline()\n",
        "\t\twhile l != None:\n",
        "\t\t\tinside_bracks = re.findall(r'\\[(.*?)\\]',l)\n",
        "\t\t\tif len(inside_bracks) < 2:\n",
        "\t\t\t\tbreak\n",
        "\t\t\tif count == 300:\n",
        "\t\t\t\tbreak\n",
        "\t\t\tmers = inside_bracks[0].split(\", \")\n",
        "\t\t\tmers = [mer[1:-1] for mer in mers]\n",
        "\t\t\tif len(mers) > max_len:\n",
        "\t\t\t\tmax_len = len(mers)\n",
        "\t\t\tgenes.append(mers)\n",
        "\t\t\tgene_labels = inside_bracks[1].split(\", \")\n",
        "\t\t\tgene_labels = list(map(float, gene_labels)) \n",
        "\t\t\tlabels.append(gene_labels)\n",
        "\t\t\tvocab.update(mers)\n",
        "\t\t\tl = f.readline()\n",
        "\t\t\tcount += 1\n",
        "\treturn vocab, genes, labels, max_len\n",
        "\n",
        "def pad(genes, max_len):\n",
        "\tatten_masks = []\n",
        "\tfor i in range(len(genes)):\n",
        "\t\tlength = len(genes[i])\n",
        "\t\tdiff = max_len - length\n",
        "\t\tgenes[i].extend(['[PAD]' for i in range(diff)])\n",
        "\t\tmask = [1 for j in range(length)]\n",
        "\t\tmask.extend([0 for j in range(diff)])\n",
        "\t\tatten_masks.append(np.array(mask))\n",
        "\treturn genes, np.array(atten_masks)"
      ],
      "execution_count": 0,
      "outputs": []
    },
    {
      "cell_type": "code",
      "metadata": {
        "id": "G-N6D4RkVGzI",
        "colab_type": "code",
        "colab": {}
      },
      "source": [
        "import torch\n",
        "from transformers import TransfoXLTokenizer, TransfoXLModel, TransfoXLConfig\n",
        "class Model(torch.nn.Module):\n",
        "  def __init__(self):\n",
        "    super(Model, self).__init__()\n",
        "    self.config = TransfoXLConfig(vocab_size_or_config_json_file=len(vocab)+267735)\n",
        "    self.model = TransfoXLModel(self.config)\n",
        "    self.tokenizer = TransfoXLTokenizer.from_pretrained('transfo-xl-wt103')\n",
        "    self.out_layer = torch.nn.Linear(self.model.d_model, 2)\n",
        "  def forward(self, input_ids, mems=None):\n",
        "    hidden_states, mems = self.model(input_ids, mems)\n",
        "    preds = self.out_layer(hidden_states).squeeze(0)\n",
        "    return preds, mems"
      ],
      "execution_count": 0,
      "outputs": []
    },
    {
      "cell_type": "code",
      "metadata": {
        "id": "Byc0Ir-US6e3",
        "colab_type": "code",
        "colab": {
          "base_uri": "https://localhost:8080/",
          "height": 799
        },
        "outputId": "17fc29cc-7591-497f-b553-ea885ee21560"
      },
      "source": [
        "from torch.nn import CrossEntropyLoss\n",
        "import numpy as np\n",
        "batch_size = 1\n",
        "window_size = 1012\n",
        "vocab, genes, labels, max_len = get_data(\"/content/drive/My Drive/all_samples_6-mer.txt\")\n",
        "#genes, atten_masks = pad(genes, max_len)\n",
        "model = Model()\n",
        "model.tokenizer.add_tokens(list(vocab))\n",
        "optimizer = torch.optim.Adam(model.parameters(), lr=0.001)\n",
        "class_weights = torch.tensor(np.array([1.0, 100.0])).float()\n",
        "loss = CrossEntropyLoss(weight=class_weights)\n",
        "total_loss = 0\n",
        "for i in range(0, len(genes)):\n",
        "\tmems = None\n",
        "\tprint(\"running on gene: \" + str(i))\n",
        "\tgene_loss = 0\n",
        "\tfor w in range(0, len(genes[i]), window_size):\n",
        "\t\ttoks = np.array(model.tokenizer.convert_tokens_to_ids(genes[i][w:w+window_size]))\n",
        "\t\tinput_ids = torch.tensor(toks).unsqueeze(0)\n",
        "\t\tgene_labels = torch.tensor(np.array(labels[i][w:w+window_size])).long()\n",
        "\t\tpredictions, mems = model(input_ids, mems)\n",
        "\t\toptimizer.zero_grad()\n",
        "\t\tl = loss(predictions, gene_labels)\n",
        "\t\tgene_loss += l.item()\n",
        "\t\tl.backward()\n",
        "\t\toptimizer.step()\n",
        "\ttotal_loss += gene_loss\n",
        "\tif i > 0 and i % 10 == 0:\n",
        "\t\tprint(\"Epoch: \" + str(i) + \" loss: \" + str(total_loss / 10))\n",
        "\t\ttotal_loss = 0\n"
      ],
      "execution_count": 0,
      "outputs": [
        {
          "output_type": "stream",
          "text": [
            "running on gene: 0\n",
            "running on gene: 1\n",
            "running on gene: 2\n",
            "running on gene: 3\n",
            "running on gene: 4\n",
            "running on gene: 5\n",
            "running on gene: 6\n",
            "running on gene: 7\n",
            "running on gene: 8\n",
            "running on gene: 9\n",
            "running on gene: 10\n",
            "Epoch: 10 loss: 4.566710933297804\n",
            "running on gene: 11\n",
            "running on gene: 12\n",
            "running on gene: 13\n",
            "running on gene: 14\n",
            "running on gene: 15\n",
            "running on gene: 16\n",
            "running on gene: 17\n",
            "running on gene: 18\n",
            "running on gene: 19\n",
            "running on gene: 20\n",
            "Epoch: 20 loss: 1.8461555227637292\n",
            "running on gene: 21\n",
            "running on gene: 22\n",
            "running on gene: 23\n",
            "running on gene: 24\n",
            "running on gene: 25\n",
            "running on gene: 26\n",
            "running on gene: 27\n",
            "running on gene: 28\n",
            "running on gene: 29\n",
            "running on gene: 30\n",
            "Epoch: 30 loss: 1.2210110008716584\n",
            "running on gene: 31\n",
            "running on gene: 32\n",
            "running on gene: 33\n",
            "running on gene: 34\n",
            "running on gene: 35\n",
            "running on gene: 36\n",
            "running on gene: 37\n",
            "running on gene: 38\n",
            "running on gene: 39\n",
            "running on gene: 40\n",
            "Epoch: 40 loss: 3.9490367114543914\n",
            "running on gene: 41\n"
          ],
          "name": "stdout"
        }
      ]
    },
    {
      "cell_type": "code",
      "metadata": {
        "id": "d6f5kjRj2eDs",
        "colab_type": "code",
        "colab": {}
      },
      "source": [
        ""
      ],
      "execution_count": 0,
      "outputs": []
    }
  ]
}