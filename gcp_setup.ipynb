{
 "cells": [
  {
   "cell_type": "markdown",
   "metadata": {},
   "source": [
    "# Lab 5: Setting up your Google Cloud Platform Account\n",
    "\n",
    "Google has granted our class with GPU credits which will be **required for the final assignment** on Generative Adversarial Networks (GANs), but useful for other assignments that may take longer to train (such as seq2seq). In this lab we'll walk through how to set up access to your Google Cloud GPU credits.\n",
    "\n",
    "Keep in mind that **you will need to have GPU credits left for the final assignment** and other projects should not require GPU power but you are free to use them for training. If you run out of credits, there is no guarantee we can provide you with more but please contact the HTA's."
   ]
  },
  {
   "cell_type": "markdown",
   "metadata": {},
   "source": [
    "## 1.  *Using Brown Account* Create Google Cloud Account\n",
    "\n",
    "- Get a coupon code with your Brown account ([link](https://google.secure.force.com/GCPEDU/?cid=KJnWiyhJEVfbkbiguWhH%2F0hvrPD4NLLha3KVx5XJVCVSppcHiXhAfMvZxWMCZ1Dl/))\n",
    "- Visit [console.cloud.google.com/education](https://console.cloud.google.com/education) - ** make sure you're signed in on your Brown account**\n",
    "- `Create A Project` in the top left corner - name it whatever you'd like!\n",
    "    - the billing account should be CSCI1470 Deep Learning\n",
    "    \n",
    "<img src='./screenshots/create_project.png'>"
   ]
  },
  {
   "cell_type": "markdown",
   "metadata": {},
   "source": [
    "## 2. Use CS147 Image\n",
    "\n",
    "- From the Google Compute Console (GCC) dashboard or [Getting Started Page](https://console.cloud.google.com/getting-started) page, click on Compute Engine \n",
    "- Click on `Images` in the left-hand panel & Create Image in the top/middle bar\n",
    "- Name the image whatever you'd like, add an optional description\n",
    "- Encryption: Choose Google-managed Key\n",
    "- Source: Cloud Storage file\n",
    "- Use our cs147 storage file: `brown-147/brown-cs-147-image.tar.gz`\n",
    "- Create Image! This may take a few minutes.\n",
    "<img src='./screenshots/image2.png'>\n"
   ]
  },
  {
   "cell_type": "markdown",
   "metadata": {},
   "source": [
    "## 3. Create VM Instance\n",
    "- From the Comput Engine Page, Click on `VM instances` in the left-hand panel & Create Instance in the top/middle bar\n",
    "- Name it whatever you'd like\n",
    "- Region = `us-east1 (South Carolina)`\n",
    "- Zone = `us-east1-c`\n",
    "- Under Machine Type, choose `Customize` view\n",
    "- Choose `8 vCPU cores` and `30 GB` of memory\n",
    "- Number of GPUs = `1`\n",
    "- GPU Type = `NVIDIA Tesla K80`\n",
    "<img src='./screenshots/create_vm1.png'>\n",
    "<br>\n",
    "- Boot Disk\n",
    "    - Click `Change`\n",
    "    - Choose `Custom Image`\n",
    "    - Choose the Image you just created\n",
    "        - note that you will only see the image that exists within that project\n",
    "    - Change Size to 50GB\n",
    "<img src='./screenshots/boot_disk.png'>\n",
    "\n",
    "<br>\n",
    "Continuing on the Create VM Instance form...\n",
    "- CPU Platform = `Automatic`\n",
    "- Check `Allow HTTP traffic `\n",
    "- Check `Allow HTTPS traffic`\n",
    "- Create VM instance! This may take a few minutes\n",
    "<img src='./screenshots/create_vm2.png'>"
   ]
  },
  {
   "cell_type": "markdown",
   "metadata": {},
   "source": [
    "## 4. Using the GCC\n",
    "\n",
    "Now that your VM is setup, you can ssh into it via a web browser CLI. You can also set it up with [another SSH client](https://cloud.google.com/compute/docs/instances/connecting-advanced#thirdpartytools) or the [gcloud tool](https://cloud.google.com/sdk/gcloud/), however for this lab we will only use the web client. Feel free to use another tool for the class if you prefer, but the web client should be sufficient.\n",
    "\n",
    "<img src='./screenshots/vm_ssh.png'>"
   ]
  },
  {
   "cell_type": "markdown",
   "metadata": {},
   "source": [
    "- Run the following commands in the web CLI to set up Tensorflow:\n",
    "\n",
    "    ```source /home/philipxjm1/.bashrc``` <br>\n",
    "\n",
    "    ```source activate tensorflow```\n",
    "\n",
    "\n",
    "- Finally, you can upload your Tensorflow files in the drop down menu located in the gear icon in the top-right.\n",
    "\n",
    "<img src='./screenshots/web_cli.png'>\n",
    "\n",
    "## You're all set!\n",
    "Verify with your lab TA you've set everything up to get checked off & feel free to ask any other questions about using the Google Cloud Console."
   ]
  }
 ],
 "metadata": {
  "kernelspec": {
   "display_name": "Python 3",
   "language": "python",
   "name": "python3"
  },
  "language_info": {
   "codemirror_mode": {
    "name": "ipython",
    "version": 3
   },
   "file_extension": ".py",
   "mimetype": "text/x-python",
   "name": "python",
   "nbconvert_exporter": "python",
   "pygments_lexer": "ipython3",
   "version": "3.6.3"
  }
 },
 "nbformat": 4,
 "nbformat_minor": 2
}
